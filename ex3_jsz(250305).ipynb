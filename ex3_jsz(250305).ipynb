{
 "cells": [
  {
   "cell_type": "code",
   "execution_count": 1,
   "id": "8adb1738-78f1-4af3-82d8-cad32c234a8f",
   "metadata": {
    "tags": []
   },
   "outputs": [],
   "source": [
    "import pandas as pd\n",
    "import matplotlib\n",
    "import matplotlib.pyplot as plt\n",
    "import matplotlib.font_manager as fm\n",
    "import seaborn as sns\n",
    "\n",
    "d2_path = './DataSet/D2Coding-Ver1.3.2-20180524.ttf'\n",
    "fm.fontManager.addfont(d2_path)\n",
    "plt.rcParams['font.family'] = 'D2Coding'\n",
    "\n",
    "data = pd.read_csv('./DataSet/김해공항.csv', encoding='EUC-KR')"
   ]
  },
  {
   "cell_type": "code",
   "execution_count": 2,
   "id": "90444f9a-4668-4bb1-b432-76b9c61653bf",
   "metadata": {
    "tags": []
   },
   "outputs": [
    {
     "data": {
      "text/html": [
       "<div>\n",
       "<style scoped>\n",
       "    .dataframe tbody tr th:only-of-type {\n",
       "        vertical-align: middle;\n",
       "    }\n",
       "\n",
       "    .dataframe tbody tr th {\n",
       "        vertical-align: top;\n",
       "    }\n",
       "\n",
       "    .dataframe thead th {\n",
       "        text-align: right;\n",
       "    }\n",
       "</style>\n",
       "<table border=\"1\" class=\"dataframe\">\n",
       "  <thead>\n",
       "    <tr style=\"text-align: right;\">\n",
       "      <th></th>\n",
       "      <th>출입국항별</th>\n",
       "      <th>내외국인별</th>\n",
       "      <th>성별</th>\n",
       "      <th>항목</th>\n",
       "      <th>시점</th>\n",
       "      <th>데이터</th>\n",
       "    </tr>\n",
       "  </thead>\n",
       "  <tbody>\n",
       "    <tr>\n",
       "      <th>0</th>\n",
       "      <td>김해(김해공항)</td>\n",
       "      <td>내국인</td>\n",
       "      <td>남자</td>\n",
       "      <td>입국자</td>\n",
       "      <td>2013</td>\n",
       "      <td>16538</td>\n",
       "    </tr>\n",
       "    <tr>\n",
       "      <th>1</th>\n",
       "      <td>김해(김해공항)</td>\n",
       "      <td>내국인</td>\n",
       "      <td>남자</td>\n",
       "      <td>입국자</td>\n",
       "      <td>2014</td>\n",
       "      <td>17240</td>\n",
       "    </tr>\n",
       "    <tr>\n",
       "      <th>2</th>\n",
       "      <td>김해(김해공항)</td>\n",
       "      <td>내국인</td>\n",
       "      <td>남자</td>\n",
       "      <td>입국자</td>\n",
       "      <td>2015</td>\n",
       "      <td>16000</td>\n",
       "    </tr>\n",
       "    <tr>\n",
       "      <th>3</th>\n",
       "      <td>김해(김해공항)</td>\n",
       "      <td>내국인</td>\n",
       "      <td>남자</td>\n",
       "      <td>입국자</td>\n",
       "      <td>2016</td>\n",
       "      <td>16759</td>\n",
       "    </tr>\n",
       "    <tr>\n",
       "      <th>4</th>\n",
       "      <td>김해(김해공항)</td>\n",
       "      <td>내국인</td>\n",
       "      <td>남자</td>\n",
       "      <td>입국자</td>\n",
       "      <td>2017</td>\n",
       "      <td>17307</td>\n",
       "    </tr>\n",
       "    <tr>\n",
       "      <th>...</th>\n",
       "      <td>...</td>\n",
       "      <td>...</td>\n",
       "      <td>...</td>\n",
       "      <td>...</td>\n",
       "      <td>...</td>\n",
       "      <td>...</td>\n",
       "    </tr>\n",
       "    <tr>\n",
       "      <th>83</th>\n",
       "      <td>김해(김해공항)</td>\n",
       "      <td>외국인</td>\n",
       "      <td>여자</td>\n",
       "      <td>출국자</td>\n",
       "      <td>2019</td>\n",
       "      <td>19623</td>\n",
       "    </tr>\n",
       "    <tr>\n",
       "      <th>84</th>\n",
       "      <td>김해(김해공항)</td>\n",
       "      <td>외국인</td>\n",
       "      <td>여자</td>\n",
       "      <td>출국자</td>\n",
       "      <td>2020</td>\n",
       "      <td>8330</td>\n",
       "    </tr>\n",
       "    <tr>\n",
       "      <th>85</th>\n",
       "      <td>김해(김해공항)</td>\n",
       "      <td>외국인</td>\n",
       "      <td>여자</td>\n",
       "      <td>출국자</td>\n",
       "      <td>2021</td>\n",
       "      <td>1558</td>\n",
       "    </tr>\n",
       "    <tr>\n",
       "      <th>86</th>\n",
       "      <td>김해(김해공항)</td>\n",
       "      <td>외국인</td>\n",
       "      <td>여자</td>\n",
       "      <td>출국자</td>\n",
       "      <td>2022</td>\n",
       "      <td>4596</td>\n",
       "    </tr>\n",
       "    <tr>\n",
       "      <th>87</th>\n",
       "      <td>김해(김해공항)</td>\n",
       "      <td>외국인</td>\n",
       "      <td>여자</td>\n",
       "      <td>출국자</td>\n",
       "      <td>2023</td>\n",
       "      <td>12343</td>\n",
       "    </tr>\n",
       "  </tbody>\n",
       "</table>\n",
       "<p>88 rows × 6 columns</p>\n",
       "</div>"
      ],
      "text/plain": [
       "       출입국항별 내외국인별  성별   항목    시점    데이터\n",
       "0   김해(김해공항)   내국인  남자  입국자  2013  16538\n",
       "1   김해(김해공항)   내국인  남자  입국자  2014  17240\n",
       "2   김해(김해공항)   내국인  남자  입국자  2015  16000\n",
       "3   김해(김해공항)   내국인  남자  입국자  2016  16759\n",
       "4   김해(김해공항)   내국인  남자  입국자  2017  17307\n",
       "..       ...   ...  ..  ...   ...    ...\n",
       "83  김해(김해공항)   외국인  여자  출국자  2019  19623\n",
       "84  김해(김해공항)   외국인  여자  출국자  2020   8330\n",
       "85  김해(김해공항)   외국인  여자  출국자  2021   1558\n",
       "86  김해(김해공항)   외국인  여자  출국자  2022   4596\n",
       "87  김해(김해공항)   외국인  여자  출국자  2023  12343\n",
       "\n",
       "[88 rows x 6 columns]"
      ]
     },
     "execution_count": 2,
     "metadata": {},
     "output_type": "execute_result"
    }
   ],
   "source": [
    "data"
   ]
  },
  {
   "cell_type": "code",
   "execution_count": 3,
   "id": "7907debf-9bf9-4f4f-8918-249d00da7026",
   "metadata": {
    "tags": []
   },
   "outputs": [
    {
     "data": {
      "text/html": [
       "<div>\n",
       "<style scoped>\n",
       "    .dataframe tbody tr th:only-of-type {\n",
       "        vertical-align: middle;\n",
       "    }\n",
       "\n",
       "    .dataframe tbody tr th {\n",
       "        vertical-align: top;\n",
       "    }\n",
       "\n",
       "    .dataframe thead th {\n",
       "        text-align: right;\n",
       "    }\n",
       "</style>\n",
       "<table border=\"1\" class=\"dataframe\">\n",
       "  <thead>\n",
       "    <tr style=\"text-align: right;\">\n",
       "      <th></th>\n",
       "      <th>시점</th>\n",
       "      <th>데이터</th>\n",
       "    </tr>\n",
       "  </thead>\n",
       "  <tbody>\n",
       "    <tr>\n",
       "      <th>0</th>\n",
       "      <td>2013</td>\n",
       "      <td>103544</td>\n",
       "    </tr>\n",
       "    <tr>\n",
       "      <th>1</th>\n",
       "      <td>2014</td>\n",
       "      <td>105030</td>\n",
       "    </tr>\n",
       "    <tr>\n",
       "      <th>2</th>\n",
       "      <td>2015</td>\n",
       "      <td>111907</td>\n",
       "    </tr>\n",
       "    <tr>\n",
       "      <th>3</th>\n",
       "      <td>2016</td>\n",
       "      <td>123220</td>\n",
       "    </tr>\n",
       "    <tr>\n",
       "      <th>4</th>\n",
       "      <td>2017</td>\n",
       "      <td>129843</td>\n",
       "    </tr>\n",
       "    <tr>\n",
       "      <th>5</th>\n",
       "      <td>2018</td>\n",
       "      <td>134832</td>\n",
       "    </tr>\n",
       "    <tr>\n",
       "      <th>6</th>\n",
       "      <td>2019</td>\n",
       "      <td>153289</td>\n",
       "    </tr>\n",
       "    <tr>\n",
       "      <th>7</th>\n",
       "      <td>2020</td>\n",
       "      <td>50159</td>\n",
       "    </tr>\n",
       "    <tr>\n",
       "      <th>8</th>\n",
       "      <td>2021</td>\n",
       "      <td>7468</td>\n",
       "    </tr>\n",
       "    <tr>\n",
       "      <th>9</th>\n",
       "      <td>2022</td>\n",
       "      <td>31853</td>\n",
       "    </tr>\n",
       "    <tr>\n",
       "      <th>10</th>\n",
       "      <td>2023</td>\n",
       "      <td>91747</td>\n",
       "    </tr>\n",
       "  </tbody>\n",
       "</table>\n",
       "</div>"
      ],
      "text/plain": [
       "      시점     데이터\n",
       "0   2013  103544\n",
       "1   2014  105030\n",
       "2   2015  111907\n",
       "3   2016  123220\n",
       "4   2017  129843\n",
       "5   2018  134832\n",
       "6   2019  153289\n",
       "7   2020   50159\n",
       "8   2021    7468\n",
       "9   2022   31853\n",
       "10  2023   91747"
      ]
     },
     "execution_count": 3,
     "metadata": {},
     "output_type": "execute_result"
    }
   ],
   "source": [
    "new_data = data.groupby('시점')['데이터'].sum().reset_index()\n",
    "new_data"
   ]
  },
  {
   "cell_type": "code",
   "execution_count": 4,
   "id": "dca3080f-6f46-481a-8510-6993c54509c8",
   "metadata": {
    "tags": []
   },
   "outputs": [
    {
     "data": {
      "image/png": "[encoded data removed]",
      "text/plain": [
       "<Figure size 1200x600 with 1 Axes>"
      ]
     },
     "metadata": {},
     "output_type": "display_data"
    }
   ],
   "source": [
    "import matplotlib.font_manager as fm\n",
    "import seaborn as sns\n",
    "\n",
    "sns.set_style(\"whitegrid\")\n",
    "\n",
    "d2_path = './DataSet/D2Coding-Ver1.3.2-20180524.ttf'\n",
    "fm.fontManager.addfont(d2_path)\n",
    "plt.rcParams['font.family'] = 'D2Coding'\n",
    "\n",
    "plt.figure(figsize=(12,6))\n",
    "plt.plot(new_data['시점'], new_data['데이터'], marker = 'o', linestyle = '-', color = '#ff4f4f', markersize = 8, linewidth = 2, alpha = 0.8)\n",
    "\n",
    "plt.title('2013 ~ 2023년도 김해공항 출입국 수 추이', fontsize = 15, fontweight = 'bold', pad = 15)\n",
    "plt.xlabel('년도', fontsize = 13, fontweight = 'bold', labelpad = 10)\n",
    "plt.ylabel('출입국자 수', fontsize = 13, fontweight = 'bold', labelpad = 10)\n",
    "\n",
    "plt.xticks(fontsize=11, fontweight='bold')\n",
    "plt.yticks(fontsize=11)\n",
    "\n",
    "plt.grid(axis='y', linestyle='--', alpha=0.7)\n",
    "plt.show()"
   ]
  },
  {
   "cell_type": "markdown",
   "id": "f13d4206-bc46-4205-a48e-02527e5b261b",
   "metadata": {},
   "source": [
    "# 인사이트\n",
    "\n",
    "### 1. 2013~2019년까지 꾸준한 증가\n",
    "\n",
    "    - 출입국자 수가 매년 증가하는 추세를 보임.\n",
    "    - 특히 2017~2019년 사이에 급격한 증가가 보임 → 국제선 노선 확대, 해외여행 증가, 항공사 취항 확대 등이 원인일 가능성.\n",
    "    - 2019년 최고치 도달 → 김해공항의 국제 항공편 활성화와 여행 수요 증가.\n",
    "    - 2020년 급격한 감소(코로나19 영향)\n",
    "\n",
    "### 2. 2019년 → 2020년 사이에 급격한 하락\n",
    "    - 이 시기는 코로나19 팬데믹이 시작된 시점으로, 국제선 운항 제한 및 여행 제한 조치가 시행됨.\n",
    "    - 전 세계적으로 항공업계가 큰 타격을 입었으며, 김해공항도 마찬가지로 큰 감소.\n",
    "    - 2021년 바닥, 이후 회복세\n",
    "\n",
    "    - *2021년 출입국자 수 최저치 → 팬데믹 영향이 극대화된 시기.*\n",
    "    \n",
    "### 3. 2022년부터 다시 증가\n",
    "    - 해외여행 제한이 점진적으로 해제되면서 항공편 운항이 재개됨.\n",
    "    - 여행 심리가 회복되면서 이용객 수가 증가.\n",
    "    - 2023년 가파른 회복세 → 코로나 이전 수준으로 회복될 가능성이 높아짐."
   ]
  },
  {
   "cell_type": "code",
   "execution_count": 5,
   "id": "29cb699d-3970-4bae-87a6-b737b780a0aa",
   "metadata": {
    "tags": []
   },
   "outputs": [
    {
     "data": {
      "text/html": [
       "<div>\n",
       "<style scoped>\n",
       "    .dataframe tbody tr th:only-of-type {\n",
       "        vertical-align: middle;\n",
       "    }\n",
       "\n",
       "    .dataframe tbody tr th {\n",
       "        vertical-align: top;\n",
       "    }\n",
       "\n",
       "    .dataframe thead th {\n",
       "        text-align: right;\n",
       "    }\n",
       "</style>\n",
       "<table border=\"1\" class=\"dataframe\">\n",
       "  <thead>\n",
       "    <tr style=\"text-align: right;\">\n",
       "      <th></th>\n",
       "      <th>시점</th>\n",
       "      <th>데이터</th>\n",
       "    </tr>\n",
       "  </thead>\n",
       "  <tbody>\n",
       "    <tr>\n",
       "      <th>0</th>\n",
       "      <td>2013</td>\n",
       "      <td>103544</td>\n",
       "    </tr>\n",
       "    <tr>\n",
       "      <th>1</th>\n",
       "      <td>2014</td>\n",
       "      <td>105030</td>\n",
       "    </tr>\n",
       "    <tr>\n",
       "      <th>2</th>\n",
       "      <td>2015</td>\n",
       "      <td>111907</td>\n",
       "    </tr>\n",
       "    <tr>\n",
       "      <th>3</th>\n",
       "      <td>2016</td>\n",
       "      <td>123220</td>\n",
       "    </tr>\n",
       "    <tr>\n",
       "      <th>4</th>\n",
       "      <td>2017</td>\n",
       "      <td>129843</td>\n",
       "    </tr>\n",
       "    <tr>\n",
       "      <th>5</th>\n",
       "      <td>2018</td>\n",
       "      <td>134832</td>\n",
       "    </tr>\n",
       "    <tr>\n",
       "      <th>6</th>\n",
       "      <td>2019</td>\n",
       "      <td>153289</td>\n",
       "    </tr>\n",
       "    <tr>\n",
       "      <th>7</th>\n",
       "      <td>2020</td>\n",
       "      <td>50159</td>\n",
       "    </tr>\n",
       "    <tr>\n",
       "      <th>8</th>\n",
       "      <td>2021</td>\n",
       "      <td>7468</td>\n",
       "    </tr>\n",
       "    <tr>\n",
       "      <th>9</th>\n",
       "      <td>2022</td>\n",
       "      <td>31853</td>\n",
       "    </tr>\n",
       "    <tr>\n",
       "      <th>10</th>\n",
       "      <td>2023</td>\n",
       "      <td>91747</td>\n",
       "    </tr>\n",
       "  </tbody>\n",
       "</table>\n",
       "</div>"
      ],
      "text/plain": [
       "      시점     데이터\n",
       "0   2013  103544\n",
       "1   2014  105030\n",
       "2   2015  111907\n",
       "3   2016  123220\n",
       "4   2017  129843\n",
       "5   2018  134832\n",
       "6   2019  153289\n",
       "7   2020   50159\n",
       "8   2021    7468\n",
       "9   2022   31853\n",
       "10  2023   91747"
      ]
     },
     "execution_count": 5,
     "metadata": {},
     "output_type": "execute_result"
    }
   ],
   "source": [
    "new_data"
   ]
  },
  {
   "cell_type": "code",
   "execution_count": 6,
   "id": "2fa57777-4ba1-4968-81e4-fd612cba1d37",
   "metadata": {
    "tags": []
   },
   "outputs": [],
   "source": [
    "X = new_data[\"시점\"].values.reshape(-1, 1)\n",
    "Y = new_data[\"데이터\"].values"
   ]
  },
  {
   "cell_type": "code",
   "execution_count": 7,
   "id": "88754475-480d-448c-81b6-aee5620591fa",
   "metadata": {
    "tags": []
   },
   "outputs": [
    {
     "data": {
      "text/html": [
       "<style>#sk-container-id-1 {color: black;background-color: white;}#sk-container-id-1 pre{padding: 0;}#sk-container-id-1 div.sk-toggleable {background-color: white;}#sk-container-id-1 label.sk-toggleable__label {cursor: pointer;display: block;width: 100%;margin-bottom: 0;padding: 0.3em;box-sizing: border-box;text-align: center;}#sk-container-id-1 label.sk-toggleable__label-arrow:before {content: \"▸\";float: left;margin-right: 0.25em;color: #696969;}#sk-container-id-1 label.sk-toggleable__label-arrow:hover:before {color: black;}#sk-container-id-1 div.sk-estimator:hover label.sk-toggleable__label-arrow:before {color: black;}#sk-container-id-1 div.sk-toggleable__content {max-height: 0;max-width: 0;overflow: hidden;text-align: left;background-color: #f0f8ff;}#sk-container-id-1 div.sk-toggleable__content pre {margin: 0.2em;color: black;border-radius: 0.25em;background-color: #f0f8ff;}#sk-container-id-1 input.sk-toggleable__control:checked~div.sk-toggleable__content {max-height: 200px;max-width: 100%;overflow: auto;}#sk-container-id-1 input.sk-toggleable__control:checked~label.sk-toggleable__label-arrow:before {content: \"▾\";}#sk-container-id-1 div.sk-estimator input.sk-toggleable__control:checked~label.sk-toggleable__label {background-color: #d4ebff;}#sk-container-id-1 div.sk-label input.sk-toggleable__control:checked~label.sk-toggleable__label {background-color: #d4ebff;}#sk-container-id-1 input.sk-hidden--visually {border: 0;clip: rect(1px 1px 1px 1px);clip: rect(1px, 1px, 1px, 1px);height: 1px;margin: -1px;overflow: hidden;padding: 0;position: absolute;width: 1px;}#sk-container-id-1 div.sk-estimator {font-family: monospace;background-color: #f0f8ff;border: 1px dotted black;border-radius: 0.25em;box-sizing: border-box;margin-bottom: 0.5em;}#sk-container-id-1 div.sk-estimator:hover {background-color: #d4ebff;}#sk-container-id-1 div.sk-parallel-item::after {content: \"\";width: 100%;border-bottom: 1px solid gray;flex-grow: 1;}#sk-container-id-1 div.sk-label:hover label.sk-toggleable__label {background-color: #d4ebff;}#sk-container-id-1 div.sk-serial::before {content: \"\";position: absolute;border-left: 1px solid gray;box-sizing: border-box;top: 0;bottom: 0;left: 50%;z-index: 0;}#sk-container-id-1 div.sk-serial {display: flex;flex-direction: column;align-items: center;background-color: white;padding-right: 0.2em;padding-left: 0.2em;position: relative;}#sk-container-id-1 div.sk-item {position: relative;z-index: 1;}#sk-container-id-1 div.sk-parallel {display: flex;align-items: stretch;justify-content: center;background-color: white;position: relative;}#sk-container-id-1 div.sk-item::before, #sk-container-id-1 div.sk-parallel-item::before {content: \"\";position: absolute;border-left: 1px solid gray;box-sizing: border-box;top: 0;bottom: 0;left: 50%;z-index: -1;}#sk-container-id-1 div.sk-parallel-item {display: flex;flex-direction: column;z-index: 1;position: relative;background-color: white;}#sk-container-id-1 div.sk-parallel-item:first-child::after {align-self: flex-end;width: 50%;}#sk-container-id-1 div.sk-parallel-item:last-child::after {align-self: flex-start;width: 50%;}#sk-container-id-1 div.sk-parallel-item:only-child::after {width: 0;}#sk-container-id-1 div.sk-dashed-wrapped {border: 1px dashed gray;margin: 0 0.4em 0.5em 0.4em;box-sizing: border-box;padding-bottom: 0.4em;background-color: white;}#sk-container-id-1 div.sk-label label {font-family: monospace;font-weight: bold;display: inline-block;line-height: 1.2em;}#sk-container-id-1 div.sk-label-container {text-align: center;}#sk-container-id-1 div.sk-container {/* jupyter's `normalize.less` sets `[hidden] { display: none; }` but bootstrap.min.css set `[hidden] { display: none !important; }` so we also need the `!important` here to be able to override the default hidden behavior on the sphinx rendered scikit-learn.org. See: https://github.com/scikit-learn/scikit-learn/issues/21755 */display: inline-block !important;position: relative;}#sk-container-id-1 div.sk-text-repr-fallback {display: none;}</style><div id=\"sk-container-id-1\" class=\"sk-top-container\"><div class=\"sk-text-repr-fallback\"><pre>LinearRegression()</pre><b>In a Jupyter environment, please rerun this cell to show the HTML representation or trust the notebook. <br />On GitHub, the HTML representation is unable to render, please try loading this page with nbviewer.org.</b></div><div class=\"sk-container\" hidden><div class=\"sk-item\"><div class=\"sk-estimator sk-toggleable\"><input class=\"sk-toggleable__control sk-hidden--visually\" id=\"sk-estimator-id-1\" type=\"checkbox\" checked><label for=\"sk-estimator-id-1\" class=\"sk-toggleable__label sk-toggleable__label-arrow\">LinearRegression</label><div class=\"sk-toggleable__content\"><pre>LinearRegression()</pre></div></div></div></div></div>"
      ],
      "text/plain": [
       "LinearRegression()"
      ]
     },
     "execution_count": 7,
     "metadata": {},
     "output_type": "execute_result"
    }
   ],
   "source": [
    "import numpy as np\n",
    "from sklearn.linear_model import LinearRegression\n",
    "\n",
    "model = LinearRegression()\n",
    "model.fit(X, Y)"
   ]
  },
  {
   "cell_type": "code",
   "execution_count": 8,
   "id": "657a88ca-ee1e-4ba8-a734-6009abefbd9f",
   "metadata": {
    "tags": []
   },
   "outputs": [],
   "source": [
    "future_years = np.array(range(new_data[\"시점\"].max() + 1, new_data[\"시점\"].max() + 6)).reshape(-1, 1)\n",
    "future_predictions = model.predict(future_years)"
   ]
  },
  {
   "cell_type": "code",
   "execution_count": 9,
   "id": "898c8405-ff12-429a-b84a-7d1bc24e5f66",
   "metadata": {
    "tags": []
   },
   "outputs": [
    {
     "data": {
      "image/png": "[encoded data removed]",
      "text/plain": [
       "<Figure size 1000x500 with 1 Axes>"
      ]
     },
     "metadata": {},
     "output_type": "display_data"
    }
   ],
   "source": [
    "plt.figure(figsize = (10, 5))\n",
    "plt.scatter(X, Y, label=\"실제 데이터\", color=\"blue\")\n",
    "plt.plot(X, model.predict(X), color=\"red\", linestyle=\"dashed\", label=\"회귀선\") \n",
    "plt.plot(future_years, future_predictions, color=\"green\", marker=\"o\", linestyle=\"dashed\", label=\"예측 데이터\")\n",
    "\n",
    "plt.xlabel(\"Year\")\n",
    "plt.ylabel(\"Total Users\")\n",
    "plt.legend()\n",
    "plt.title(\"향후 예측\")\n",
    "plt.show()"
   ]
  },
  {
   "cell_type": "markdown",
   "id": "80c1fb65-6334-4490-9714-ea14e8da4ed2",
   "metadata": {},
   "source": [
    "# 인사이트\n",
    "\n",
    "### 1. 이전 데이터에 코로나19 영향이 큼\n",
    "    - 2019년까지는 증가하는 추세였지만, 2020년~2021년에 코로나19로 인해 급감했음.\n",
    "    - 선형 회귀 모델은 단순 직선이므로 코로나 이후의 감소 패턴을 그대로 연장함.\n",
    "    - 회귀선이 전체적인 추세를 제대로 반영하지 못함\n",
    "\n",
    "### 2. 해결\n",
    "\n",
    "    - 코로나 이전(2013~2019) 데이터로만 회귀 모델 학습\n",
    "        -> 팬데믹 영향을 배제하고, 정상적인 공항 이용 추세를 예측 가능.\n",
    "    - 비선형 모델(다항 회귀) 사용\n",
    "        -> 이용자 수 변화가 직선이 아니라 곡선(이차 함수 형태)로 증가하는 패턴을 반영하도록 개선.\n",
    "    - 시계열 모델(ARIMA) 적용\n",
    "        -> 연도별 증가/감소 패턴을 반영해 더 정확한 예측 가능"
   ]
  },
  {
   "cell_type": "code",
   "execution_count": null,
   "id": "c6b6948a-06c9-4ea0-9fce-39a1638fcd67",
   "metadata": {},
   "outputs": [],
   "source": []
  }
 ],
 "metadata": {
  "kernelspec": {
   "display_name": "Python 3 (ipykernel)",
   "language": "python",
   "name": "python3"
  },
  "language_info": {
   "codemirror_mode": {
    "name": "ipython",
    "version": 3
   },
   "file_extension": ".py",
   "mimetype": "text/x-python",
   "name": "python",
   "nbconvert_exporter": "python",
   "pygments_lexer": "ipython3",
   "version": "3.11.5"
  }
 },
 "nbformat": 4,
 "nbformat_minor": 5
}
